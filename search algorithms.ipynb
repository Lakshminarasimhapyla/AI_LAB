{
 "cells": [
  {
   "cell_type": "markdown",
   "id": "873206ee",
   "metadata": {},
   "source": [
    "# DFS"
   ]
  },
  {
   "cell_type": "code",
   "execution_count": 12,
   "id": "d72d6b9f",
   "metadata": {},
   "outputs": [
    {
     "name": "stdout",
     "output_type": "stream",
     "text": [
      "0 2 4 3 1 "
     ]
    }
   ],
   "source": [
    "#dfs program \n",
    "def dfs(graph,start):\n",
    "    exp=[]\n",
    "    frontier=[]\n",
    "    exp.append(start)\n",
    "    frontier.append(start)\n",
    "    while frontier:\n",
    "        node=frontier.pop()\n",
    "        print(node ,end=\" \")\n",
    "        for i in graph[node]:\n",
    "            if i not in exp:\n",
    "                exp.append(i)\n",
    "                frontier.append(i)\n",
    "    \n",
    "graph={0:[1,2],1:[3],2:[3,4],3:[4],4:[0]}\n",
    "dfs(graph,0)"
   ]
  },
  {
   "cell_type": "markdown",
   "id": "014c76b0",
   "metadata": {},
   "source": [
    "# BFS"
   ]
  },
  {
   "cell_type": "code",
   "execution_count": 13,
   "id": "4d61370f",
   "metadata": {},
   "outputs": [
    {
     "name": "stdout",
     "output_type": "stream",
     "text": [
      "0 1 2 3 4 "
     ]
    }
   ],
   "source": [
    "#bfs program\n",
    "def bfs(graph,start):\n",
    "    exp,frontier=[],[]\n",
    "    exp.append(start)\n",
    "    frontier.append(start)\n",
    "    while frontier:\n",
    "        node=frontier.pop(0)\n",
    "        print(node,end=\" \")\n",
    "        for i in graph[node]:\n",
    "            if i not in exp:\n",
    "                exp.append(i)\n",
    "                frontier.append(i)\n",
    "graph={0:[1,2],1:[3],2:[3,4],3:[4],4:[0]}\n",
    "bfs(graph,0)          "
   ]
  },
  {
   "cell_type": "markdown",
   "id": "b8b5c90f",
   "metadata": {},
   "source": [
    "# DFS_GOAL\n"
   ]
  },
  {
   "cell_type": "code",
   "execution_count": 90,
   "id": "41343fca",
   "metadata": {},
   "outputs": [
    {
     "name": "stdout",
     "output_type": "stream",
     "text": [
      "0 2 4 \n",
      "Goal node is found\n"
     ]
    }
   ],
   "source": [
    "def dfs_goal(graph,start,goal):\n",
    "    exp,front=[],[]\n",
    "    exp.append(start)\n",
    "    front.append(start)\n",
    "    while front:\n",
    "        node=front.pop()\n",
    "        print(node ,end=\" \")\n",
    "        if node==goal:\n",
    "            print(\"\\nGoal node is found\")\n",
    "            break\n",
    "        for i in graph[node]:\n",
    "            if i not in exp:\n",
    "                exp.append(i)\n",
    "                front.append(i)\n",
    "    if len(front)==0:\n",
    "        print(\"Goal node not found\")\n",
    "graph={0:[1,2],1:[3],2:[3,4],3:[4],4:[0]}\n",
    "dfs_goal(graph,0,4)          "
   ]
  },
  {
   "cell_type": "markdown",
   "id": "d6db3e92",
   "metadata": {},
   "source": [
    "# BFS_GOAL"
   ]
  },
  {
   "cell_type": "code",
   "execution_count": 37,
   "id": "7bc13568",
   "metadata": {},
   "outputs": [
    {
     "name": "stdout",
     "output_type": "stream",
     "text": [
      "0 1 2 3 4 \n",
      "Goal node is found\n"
     ]
    }
   ],
   "source": [
    "def bfs_goal(graph,start,goal):\n",
    "    exp,front=[],[]\n",
    "    exp.append(start)\n",
    "    front.append(start)\n",
    "    while front:\n",
    "        node=front.pop(0)\n",
    "        print(node ,end=\" \")\n",
    "        if node==goal:\n",
    "            print(\"\\nGoal node is found\")\n",
    "            break\n",
    "        for i in graph[node]:\n",
    "            if i not in exp:\n",
    "                exp.append(i)\n",
    "                front.append(i)\n",
    "        if len(front)==0:\n",
    "            print(\"\\nGoal node not found\")\n",
    "graph={0:[1,2],1:[3],2:[3,4],3:[4],4:[0]}\n",
    "bfs_goal(graph,0,4)          "
   ]
  },
  {
   "cell_type": "markdown",
   "id": "3c1e8baf",
   "metadata": {},
   "source": [
    "# DEPTH LIMITED SEARCH"
   ]
  },
  {
   "cell_type": "code",
   "execution_count": 76,
   "id": "c06fd739",
   "metadata": {},
   "outputs": [
    {
     "name": "stdout",
     "output_type": "stream",
     "text": [
      "\n",
      "Goal node is found\n"
     ]
    }
   ],
   "source": [
    "def dls_goal(graph,start,goal,depth):\n",
    "    exp,front=[],[]\n",
    "    exp.append(start)\n",
    "    front.append(start)\n",
    "    lev=0\n",
    "    while front:\n",
    "        node=front.pop()\n",
    "        #print(node ,end=\" \")\n",
    "        if node==goal and lev<=depth:\n",
    "            print(\"\\nGoal node is found\")\n",
    "            break\n",
    "        for i in graph[node]:\n",
    "            if i not in exp:\n",
    "                exp.append(i)\n",
    "                front.append(i)\n",
    "        lev+=1\n",
    "    if len(front)==0 and lev>depth:\n",
    "        print(\"Goal node not found\")\n",
    "graph={0:[1,2],1:[3],2:[3,4],3:[4],4:[0]}\n",
    "dls_goal(graph,0,4,2)"
   ]
  },
  {
   "cell_type": "markdown",
   "id": "5a3429ee",
   "metadata": {},
   "source": [
    "# ITERATIVE DEEPENING"
   ]
  },
  {
   "cell_type": "code",
   "execution_count": 89,
   "id": "33bdb19d",
   "metadata": {},
   "outputs": [
    {
     "name": "stdout",
     "output_type": "stream",
     "text": [
      "Goal is found\n"
     ]
    }
   ],
   "source": [
    "def dls_goal(graph,start,goal,depth):\n",
    "    exp,front=[],[]\n",
    "    exp.append(start)\n",
    "    front.append(start)\n",
    "    lev=0\n",
    "    flag=0\n",
    "    while front and lev<=depth:\n",
    "        node=front.pop()\n",
    "        #print(node ,end=\" \")\n",
    "        if node==goal:\n",
    "            flag=1\n",
    "            return flag\n",
    "            break\n",
    "        for i in graph[node]:\n",
    "            if i not in exp:\n",
    "                exp.append(i)\n",
    "                front.append(i)\n",
    "        lev+=1\n",
    "        if len(front)==0 and lev>depth:\n",
    "            return flag\n",
    "def idfs(graph,start,goal):\n",
    "    res=[]\n",
    "    for i in range(5):\n",
    "        res.append(dls_goal(graph,start,goal,i))\n",
    "    if res[-1]==1:\n",
    "        print(\"Goal is found\")\n",
    "    else:\n",
    "        print(\"Goal not found\")\n",
    "graph={0:[1,2],1:[3],2:[3,4],3:[4],4:[0]}\n",
    "idfs(graph,0,4)\n"
   ]
  },
  {
   "cell_type": "code",
   "execution_count": null,
   "id": "a8255050",
   "metadata": {},
   "outputs": [],
   "source": []
  },
  {
   "cell_type": "code",
   "execution_count": null,
   "id": "73de9d00",
   "metadata": {},
   "outputs": [],
   "source": []
  }
 ],
 "metadata": {
  "kernelspec": {
   "display_name": "Python 3 (ipykernel)",
   "language": "python",
   "name": "python3"
  },
  "language_info": {
   "codemirror_mode": {
    "name": "ipython",
    "version": 3
   },
   "file_extension": ".py",
   "mimetype": "text/x-python",
   "name": "python",
   "nbconvert_exporter": "python",
   "pygments_lexer": "ipython3",
   "version": "3.11.3"
  }
 },
 "nbformat": 4,
 "nbformat_minor": 5
}
