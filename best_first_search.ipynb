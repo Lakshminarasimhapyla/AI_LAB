{
 "cells": [
  {
   "cell_type": "code",
   "execution_count": 1,
   "id": "f3eedc0e",
   "metadata": {},
   "outputs": [
    {
     "name": "stdout",
     "output_type": "stream",
     "text": [
      "Full path found: ['A', 'C', 'F', 'G']\n"
     ]
    }
   ],
   "source": [
    "def best_first_search(graph,start,goal):\n",
    "    queue=[]\n",
    "    queue.append((0,start,[start]))\n",
    "    while  len(queue)!=0:\n",
    "        cost,current,path=queue.pop(0)\n",
    "        if current==goal:\n",
    "            return path\n",
    "        for neighbor in graph[current]:\n",
    "            new_path=path+[neighbor]\n",
    "            queue.append((heuristic_cost(neighbor,goal),neighbor,new_path))\n",
    "def heuristic_cost(node, goal):\n",
    "    # Define a heuristic function to estimate the cost from node to goal\n",
    "    return abs(len(node) - len(goal))\n",
    "     \n",
    "graph = {\n",
    "    'A': ['B', 'C','D'],\n",
    "    'B': ['E'],\n",
    "    'C': ['F','E'],\n",
    "    'D': ['F'],\n",
    "    'E': ['H'],\n",
    "    'F': ['G'],\n",
    "    'H': ['G'],\n",
    "     'G':[]\n",
    "}\n",
    "\n",
    "start_node = 'A'\n",
    "goal_node = 'G'\n",
    "\n",
    "result_path = best_first_search(graph, start_node, goal_node)\n",
    "print(\"Full path found:\", result_path)"
   ]
  },
  {
   "cell_type": "code",
   "execution_count": null,
   "id": "4f32429e",
   "metadata": {},
   "outputs": [],
   "source": []
  }
 ],
 "metadata": {
  "kernelspec": {
   "display_name": "Python 3 (ipykernel)",
   "language": "python",
   "name": "python3"
  },
  "language_info": {
   "codemirror_mode": {
    "name": "ipython",
    "version": 3
   },
   "file_extension": ".py",
   "mimetype": "text/x-python",
   "name": "python",
   "nbconvert_exporter": "python",
   "pygments_lexer": "ipython3",
   "version": "3.9.7"
  }
 },
 "nbformat": 4,
 "nbformat_minor": 5
}
